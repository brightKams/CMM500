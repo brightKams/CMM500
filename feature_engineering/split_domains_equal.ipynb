{
 "cells": [
  {
   "cell_type": "code",
   "execution_count": 1,
   "metadata": {},
   "outputs": [
    {
     "name": "stdout",
     "output_type": "stream",
     "text": [
      "Balanced dataset saved to balanced_features.csv\n"
     ]
    }
   ],
   "source": [
    "import pandas as pd\n",
    "\n",
    "def balance_dataset(input_file, output_file):\n",
    "    # Load the input file\n",
    "    data = pd.read_csv(input_file)\n",
    "\n",
    "    # Check the label distribution\n",
    "    label_counts = data['label'].value_counts()\n",
    "\n",
    "    # Determine the number of records to remove\n",
    "    if label_counts[1] > label_counts[0]:\n",
    "        majority_label = 1\n",
    "        minority_count = label_counts[0]\n",
    "    elif label_counts[0] > label_counts[1]:\n",
    "        majority_label = 0\n",
    "        minority_count = label_counts[1]\n",
    "    else:\n",
    "        print(\"The dataset is already balanced.\")\n",
    "        return\n",
    "#\n",
    "    # Filter and balance the dataset\n",
    "    majority_records = data[data['label'] == majority_label]\n",
    "    majority_to_keep = majority_records.sample(n=minority_count, random_state=42)\n",
    "    minority_records = data[data['label'] != majority_label]\n",
    "\n",
    "    balanced_data = pd.concat([majority_to_keep, minority_records])\n",
    "\n",
    "    # Save the balanced dataset\n",
    "    balanced_data.to_csv(output_file, index=False)\n",
    "    print(f\"Balanced dataset saved to {output_file}\")\n",
    "\n",
    "# Example usage\n",
    "input_file = '../files/features_merged_combination_updated.csv'  # Replace with your file path\n",
    "output_file = 'balanced_features.csv'  # Replace with your desired output file path\n",
    "balance_dataset(input_file, output_file)\n"
   ]
  }
 ],
 "metadata": {
  "kernelspec": {
   "display_name": "cmm500",
   "language": "python",
   "name": "python3"
  },
  "language_info": {
   "codemirror_mode": {
    "name": "ipython",
    "version": 3
   },
   "file_extension": ".py",
   "mimetype": "text/x-python",
   "name": "python",
   "nbconvert_exporter": "python",
   "pygments_lexer": "ipython3",
   "version": "3.13.1"
  }
 },
 "nbformat": 4,
 "nbformat_minor": 2
}
